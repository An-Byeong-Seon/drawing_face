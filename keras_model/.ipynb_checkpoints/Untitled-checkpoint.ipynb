{
 "cells": [
  {
   "cell_type": "code",
   "execution_count": 33,
   "id": "d9deb0bc",
   "metadata": {},
   "outputs": [],
   "source": [
    "import pandas as pd\n",
    "\n",
    "\n",
    "\n",
    "PREPROCESS = True\n",
    "\n",
    "if PREPROCESS:\n",
    "    # read original tsv\n",
    "    df = pd.read_csv('./data/draw.tsv', sep='\\t')\n",
    "\n",
    "    # preprocess - description \n",
    "    _description = df['description']\n",
    "    res = []\n",
    "    for i in range(_description.shape[0]):\n",
    "        try:\n",
    "            arr = _description[i].split('.')\n",
    "            if len(arr) > 5:\n",
    "                if len(arr[-1]) > 2:\n",
    "                    res.append(arr)\n",
    "                else:\n",
    "                    res.append(arr[:-1])\n",
    "        except:\n",
    "            break\n",
    "\n",
    "\n",
    "    # for labeling\n",
    "    _df = df.copy()\n",
    "    _df['h_length'] = _df['h_length'].apply(lambda x:\"hl\"+str(int(x))) # description X\n",
    "    _df['h_bang'] = _df['h_bang'].apply(lambda x:\"hb\"+str(int(x)))\n",
    "    _df['h_curl'] = _df['h_curl'].apply(lambda x:\"hc\"+str(int(x)))\n",
    "    _df['e_shape'] = _df['e_shape'].apply(lambda x:\"es\"+str(int(x))) # description X\n",
    "    _df['f_shape'] = _df['f_shape'].apply(lambda x:\"fs\"+str(int(x)))\n",
    "    _df['sex'] = _df['sex'].apply(lambda x:\"s\"+str(int(x)))\n",
    "    _df['nose'] = _df['nose'].apply(lambda x:\"n\"+str(int(x))) # description X\n",
    "\n",
    "    # arrange data for train\n",
    "    train_df = pd.DataFrame(columns=['label', 'description'])\n",
    "    for i in range(len(res)):\n",
    "        s = pd.DataFrame(res[i])\n",
    "        \n",
    "        if s[0].str.contains('long|short|hair').sum() != 0:\n",
    "            idx1 = s[0].str.contains('hair')\n",
    "            idx2 = s[0].str.contains('long|short')\n",
    "            \n",
    "            if (idx1 & idx2).sum() != 0:\n",
    "                idx = (idx1 & idx2).argmax()\n",
    "                \n",
    "                train_df = train_df.append({'label' : _df['h_length'][i], 'description' : str(res[i][idx])}, ignore_index=True)\n",
    "\n",
    "    \n",
    "\n"
   ]
  },
  {
   "cell_type": "code",
   "execution_count": 34,
   "id": "1c02bd9a",
   "metadata": {
    "scrolled": true
   },
   "outputs": [
    {
     "data": {
      "text/html": [
       "<div>\n",
       "<style scoped>\n",
       "    .dataframe tbody tr th:only-of-type {\n",
       "        vertical-align: middle;\n",
       "    }\n",
       "\n",
       "    .dataframe tbody tr th {\n",
       "        vertical-align: top;\n",
       "    }\n",
       "\n",
       "    .dataframe thead th {\n",
       "        text-align: right;\n",
       "    }\n",
       "</style>\n",
       "<table border=\"1\" class=\"dataframe\">\n",
       "  <thead>\n",
       "    <tr style=\"text-align: right;\">\n",
       "      <th></th>\n",
       "      <th>label</th>\n",
       "      <th>description</th>\n",
       "    </tr>\n",
       "  </thead>\n",
       "  <tbody>\n",
       "    <tr>\n",
       "      <th>0</th>\n",
       "      <td>hl3</td>\n",
       "      <td>She is a middle-aged white woman</td>\n",
       "    </tr>\n",
       "    <tr>\n",
       "      <th>1</th>\n",
       "      <td>hl2</td>\n",
       "      <td>He is a middle-aged Asian man</td>\n",
       "    </tr>\n",
       "    <tr>\n",
       "      <th>2</th>\n",
       "      <td>hl1</td>\n",
       "      <td>He is a middle-aged white man</td>\n",
       "    </tr>\n",
       "    <tr>\n",
       "      <th>3</th>\n",
       "      <td>hl1</td>\n",
       "      <td>He is a white young man</td>\n",
       "    </tr>\n",
       "    <tr>\n",
       "      <th>4</th>\n",
       "      <td>hl1</td>\n",
       "      <td>He is a middle-aged white man</td>\n",
       "    </tr>\n",
       "    <tr>\n",
       "      <th>...</th>\n",
       "      <td>...</td>\n",
       "      <td>...</td>\n",
       "    </tr>\n",
       "    <tr>\n",
       "      <th>145</th>\n",
       "      <td>hl2</td>\n",
       "      <td>He is youth-aged white man</td>\n",
       "    </tr>\n",
       "    <tr>\n",
       "      <th>146</th>\n",
       "      <td>hl2</td>\n",
       "      <td>He is youth-aged white man</td>\n",
       "    </tr>\n",
       "    <tr>\n",
       "      <th>147</th>\n",
       "      <td>hl2</td>\n",
       "      <td>She is youth-aged white woman</td>\n",
       "    </tr>\n",
       "    <tr>\n",
       "      <th>148</th>\n",
       "      <td>hl1</td>\n",
       "      <td>He is adolescent-aged Indian man</td>\n",
       "    </tr>\n",
       "    <tr>\n",
       "      <th>149</th>\n",
       "      <td>hl2</td>\n",
       "      <td>She is children-aged white woman</td>\n",
       "    </tr>\n",
       "  </tbody>\n",
       "</table>\n",
       "<p>150 rows × 2 columns</p>\n",
       "</div>"
      ],
      "text/plain": [
       "    label                       description\n",
       "0     hl3  She is a middle-aged white woman\n",
       "1     hl2     He is a middle-aged Asian man\n",
       "2     hl1     He is a middle-aged white man\n",
       "3     hl1           He is a white young man\n",
       "4     hl1     He is a middle-aged white man\n",
       "..    ...                               ...\n",
       "145   hl2        He is youth-aged white man\n",
       "146   hl2        He is youth-aged white man\n",
       "147   hl2     She is youth-aged white woman\n",
       "148   hl1  He is adolescent-aged Indian man\n",
       "149   hl2  She is children-aged white woman\n",
       "\n",
       "[150 rows x 2 columns]"
      ]
     },
     "execution_count": 34,
     "metadata": {},
     "output_type": "execute_result"
    }
   ],
   "source": [
    "train_df"
   ]
  },
  {
   "cell_type": "code",
   "execution_count": 6,
   "id": "28f58ee4",
   "metadata": {},
   "outputs": [
    {
     "data": {
      "text/plain": [
       "0                     She is a middle-aged white woman\n",
       "1     Her hair is brown, and it's long and slightly...\n",
       "2                               She doesn't have bangs\n",
       "3                                      She is grinning\n",
       "4               She has no beard, and has a round face\n",
       "5     She has wrinkles around the eyes and smile li...\n",
       "6             She has double eyelids and thin eyebrows\n",
       "7                                   She has black eyes\n",
       "8                             She doesn't wear glasses\n",
       "9               Her head direction is toward the right\n",
       "Name: 0, dtype: object"
      ]
     },
     "execution_count": 6,
     "metadata": {},
     "output_type": "execute_result"
    }
   ],
   "source": [
    "pd.DataFrame(res[0])[0]"
   ]
  },
  {
   "cell_type": "code",
   "execution_count": 42,
   "id": "230cee41",
   "metadata": {},
   "outputs": [
    {
     "name": "stdout",
     "output_type": "stream",
     "text": [
      "0    False\n",
      "1    False\n",
      "2    False\n",
      "3    False\n",
      "4    False\n",
      "5    False\n",
      "6    False\n",
      "7    False\n",
      "8    False\n",
      "Name: 0, dtype: bool\n"
     ]
    },
    {
     "data": {
      "text/plain": [
       "False"
      ]
     },
     "execution_count": 42,
     "metadata": {},
     "output_type": "execute_result"
    }
   ],
   "source": [
    "s = pd.DataFrame(res[i])\n",
    "a = s[0].str.contains('hair')\n",
    "b = s[0].str.contains('long|short')\n",
    "print(a & b)\n",
    "False & False"
   ]
  },
  {
   "cell_type": "code",
   "execution_count": 15,
   "id": "058aed37",
   "metadata": {},
   "outputs": [
    {
     "data": {
      "text/plain": [
       "0"
      ]
     },
     "execution_count": 15,
     "metadata": {},
     "output_type": "execute_result"
    }
   ],
   "source": [
    "s.str.contains('kill').sum()"
   ]
  },
  {
   "cell_type": "code",
   "execution_count": null,
   "id": "afc3d59e",
   "metadata": {},
   "outputs": [],
   "source": []
  }
 ],
 "metadata": {
  "kernelspec": {
   "display_name": "Python 3",
   "language": "python",
   "name": "python3"
  },
  "language_info": {
   "codemirror_mode": {
    "name": "ipython",
    "version": 3
   },
   "file_extension": ".py",
   "mimetype": "text/x-python",
   "name": "python",
   "nbconvert_exporter": "python",
   "pygments_lexer": "ipython3",
   "version": "3.8.8"
  }
 },
 "nbformat": 4,
 "nbformat_minor": 5
}
